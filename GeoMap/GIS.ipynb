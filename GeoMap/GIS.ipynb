{
 "cells": [
  {
   "cell_type": "code",
   "execution_count": 1,
   "metadata": {},
   "outputs": [],
   "source": [
    "# Geopandas，其他GIS工具Pyecharts\n",
    "# 依赖包需要依次安装，最后安装Geopandas：\n",
    "# GDAL、Fina、pyproj、Rtree、shapely、\n",
    "# GDAL的安装：①brew install GDAL安装GDAL;②brew info GDAL查看GDAL版本；③pip install GDAL==3.5.2（与brew安装的版本一致）\n",
    "# 安装完的GDAL无法直接import gdal，但是from osgeo import gdal却可以\n",
    "# 因此，写以下脚本放置与site-packages文件夹中\n",
    "# from osgeo.gdal import deprecation_warn\n",
    "# deprecation_warn('gdal')\n",
    "# from osgeo.gdal import *\n",
    "# pycharm无法使用gdal和geopandas，因此使用jupyter notebook进行绘图。"
   ]
  },
  {
   "cell_type": "code",
   "execution_count": 12,
   "metadata": {},
   "outputs": [
    {
     "name": "stdout",
     "output_type": "stream",
     "text": [
      "OK!\n"
     ]
    }
   ],
   "source": [
    "import geopandas as gpd\n",
    "\n",
    "print('OK!')"
   ]
  },
  {
   "cell_type": "code",
   "execution_count": 14,
   "metadata": {},
   "outputs": [
    {
     "name": "stdout",
     "output_type": "stream",
     "text": [
      "This distance between point(0.0) and (1,1) is: 1.4142135623730951\n"
     ]
    },
    {
     "data": {
      "text/plain": [
       "a    POINT (0.00000 0.00000)\n",
       "b    POINT (0.00000 1.00000)\n",
       "c    POINT (1.00000 1.00000)\n",
       "d    POINT (1.00000 0.00000)\n",
       "dtype: geometry"
      ]
     },
     "execution_count": 14,
     "metadata": {},
     "output_type": "execute_result"
    }
   ],
   "source": [
    "import shapely.geometry as geo\n",
    "pnt = geo.Point(0,0)\n",
    "print('This distance between point(0.0) and (1,1) is:', pnt.distance(geo.Point(1,1)))\n",
    "gpd.GeoSeries([geo.Point(0,0),\n",
    "               geo.Point(0,1),\n",
    "               geo.Point(1,1),\n",
    "               geo.Point(1,0)],\n",
    "             index=['a','b','c','d'])"
   ]
  },
  {
   "cell_type": "code",
   "execution_count": null,
   "metadata": {},
   "outputs": [],
   "source": []
  }
 ],
 "metadata": {
  "kernelspec": {
   "display_name": "Python 3",
   "language": "python",
   "name": "python3"
  },
  "language_info": {
   "codemirror_mode": {
    "name": "ipython",
    "version": 3
   },
   "file_extension": ".py",
   "mimetype": "text/x-python",
   "name": "python",
   "nbconvert_exporter": "python",
   "pygments_lexer": "ipython3",
   "version": "3.8.3"
  }
 },
 "nbformat": 4,
 "nbformat_minor": 4
}
